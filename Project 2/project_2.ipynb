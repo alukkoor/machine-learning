{
 "cells": [
  {
   "cell_type": "code",
   "execution_count": 1,
   "metadata": {
    "executionInfo": {
     "elapsed": 443,
     "status": "ok",
     "timestamp": 1606196742924,
     "user": {
      "displayName": "Amith Lukkoor",
      "photoUrl": "https://lh3.googleusercontent.com/a-/AOh14GjcH8ZwqQ18Xi2HRThO0tbx4BBzfkm4zIxFsOqi_w=s64",
      "userId": "14016473322684926525"
     },
     "user_tz": 480
    },
    "id": "ZQ57FP3Zdq19"
   },
   "outputs": [],
   "source": [
    "import os\n",
    "import numpy as np\n",
    "import matplotlib.pyplot as plt"
   ]
  },
  {
   "cell_type": "code",
   "execution_count": 2,
   "metadata": {
    "executionInfo": {
     "elapsed": 631,
     "status": "ok",
     "timestamp": 1606196743124,
     "user": {
      "displayName": "Amith Lukkoor",
      "photoUrl": "https://lh3.googleusercontent.com/a-/AOh14GjcH8ZwqQ18Xi2HRThO0tbx4BBzfkm4zIxFsOqi_w=s64",
      "userId": "14016473322684926525"
     },
     "user_tz": 480
    },
    "id": "6llKPL2TeCDx"
   },
   "outputs": [],
   "source": [
    "class Data:\n",
    "    def __init__(self, X=None, y=None):\n",
    "        \"\"\"\n",
    "        Data class.\n",
    "        \n",
    "        Attributes\n",
    "        --------------------\n",
    "            X       -- numpy array of shape (n,d), features\n",
    "            y       -- numpy array of shape (n,), targets\n",
    "        \"\"\"\n",
    "\n",
    "        self.X = X\n",
    "        self.y = y\n",
    "\n",
    "    def load(self, filename):\n",
    "        \"\"\"\n",
    "        Load csv file into X array of features and y array of labels.\n",
    "        \n",
    "        Parameters\n",
    "        --------------------\n",
    "            filename -- string, filename\n",
    "        \"\"\"\n",
    "\n",
    "        # Load data\n",
    "        with open(filename, \"r\") as fid:\n",
    "            data = np.loadtxt(fid, delimiter=\",\")\n",
    "\n",
    "        # Separate features and labels\n",
    "        self.X = data[:, :-1]\n",
    "        self.y = data[:, -1]\n",
    "\n",
    "    def plot(self, **kwargs):\n",
    "        \"\"\"Plot data.\"\"\"\n",
    "\n",
    "        if \"color\" not in kwargs:\n",
    "            kwargs[\"color\"] = \"b\"\n",
    "\n",
    "        plt.scatter(self.X, self.y, **kwargs)\n",
    "        plt.xlabel(\"x\", fontsize=16)\n",
    "        plt.ylabel(\"y\", fontsize=16)\n",
    "        plt.show()"
   ]
  },
  {
   "cell_type": "code",
   "execution_count": 3,
   "metadata": {
    "executionInfo": {
     "elapsed": 628,
     "status": "ok",
     "timestamp": 1606196743125,
     "user": {
      "displayName": "Amith Lukkoor",
      "photoUrl": "https://lh3.googleusercontent.com/a-/AOh14GjcH8ZwqQ18Xi2HRThO0tbx4BBzfkm4zIxFsOqi_w=s64",
      "userId": "14016473322684926525"
     },
     "user_tz": 480
    },
    "id": "I06zHwgTeSs3"
   },
   "outputs": [],
   "source": [
    "# Wrapper functions around Data class\n",
    "def load_data(filename):\n",
    "    data = Data()\n",
    "    data.load(filename)\n",
    "    return data\n",
    "\n",
    "def plot_data(X, y, **kwargs):\n",
    "    data = Data(X, y)\n",
    "    data.plot(**kwargs)"
   ]
  },
  {
   "cell_type": "code",
   "execution_count": 4,
   "metadata": {
    "executionInfo": {
     "elapsed": 793,
     "status": "ok",
     "timestamp": 1606196743295,
     "user": {
      "displayName": "Amith Lukkoor",
      "photoUrl": "https://lh3.googleusercontent.com/a-/AOh14GjcH8ZwqQ18Xi2HRThO0tbx4BBzfkm4zIxFsOqi_w=s64",
      "userId": "14016473322684926525"
     },
     "user_tz": 480
    },
    "id": "JvP1DJfteUOn"
   },
   "outputs": [],
   "source": [
    "class PolynomialRegression:\n",
    "    def __init__(self, m=1, reg_param=0):\n",
    "        \"\"\"\n",
    "        Ordinary least squares regression.\n",
    "        \n",
    "        Attributes\n",
    "        --------------------\n",
    "            coef_   -- numpy array of shape (d,)\n",
    "                       estimated coefficients for the linear regression problem\n",
    "            m_      -- integer\n",
    "                       order for polynomial regression\n",
    "            lambda_ -- float\n",
    "                       regularization parameter\n",
    "        \"\"\"\n",
    "\n",
    "        self.coef_ = None\n",
    "        self.m_ = m\n",
    "\n",
    "    def generate_polynomial_features(self, X):\n",
    "        \"\"\"\n",
    "        Maps X to an mth degree feature vector e.g. [1, X, X^2, ..., X^m].\n",
    "        \n",
    "        Parameters\n",
    "        --------------------\n",
    "            X       -- numpy array of shape (n,1), features\n",
    "        \n",
    "        Returns\n",
    "        --------------------\n",
    "            Phi     -- numpy array of shape (n,(m+1)), mapped features\n",
    "        \"\"\"\n",
    "\n",
    "        n, d = X.shape\n",
    "\n",
    "        # Modify to create matrix for simple linear model\n",
    "        m = self.m_\n",
    "        Phi = np.ones((n, d))\n",
    "        for i in range(1, m+1):\n",
    "          Phi = np.hstack((Phi, X**i))\n",
    "\n",
    "        return Phi\n",
    "\n",
    "    def fit_GD(self, X, y, eta=None, eps=0, tmax=10000, verbose=False):\n",
    "        \"\"\"\n",
    "        Finds the coefficients of a {d-1}^th degree polynomial\n",
    "        that fits the data using least squares batch gradient descent.\n",
    "        \n",
    "        Parameters\n",
    "        --------------------\n",
    "            X       -- numpy array of shape (n,d), features\n",
    "            y       -- numpy array of shape (n,), targets\n",
    "            eta     -- float, step size\n",
    "            eps     -- float, convergence criterion\n",
    "            tmax    -- integer, maximum number of iterations\n",
    "            verbose -- boolean, for debugging purposes\n",
    "        \n",
    "        Returns\n",
    "        --------------------\n",
    "            self    -- an instance of self\n",
    "        \"\"\"\n",
    "\n",
    "        X = self.generate_polynomial_features(X)  # map features\n",
    "        n, d = X.shape\n",
    "        eta_input = eta\n",
    "        self.coef_ = np.zeros(d)  # coefficients\n",
    "        err_list = np.zeros((tmax, 1))  # errors per iteration\n",
    "\n",
    "        # SGD loop\n",
    "        \n",
    "        # Option for learning rate decay\n",
    "        for t in range(tmax):\n",
    "            if eta_input is None:\n",
    "                eta = 1/(1+t)\n",
    "            else:\n",
    "                eta = eta_input\n",
    "                \n",
    "            # Update w (self.coef_) using one step of GD\n",
    "            y_pred = np.dot(X, self.coef_)\n",
    "            self.coef_ -= 2*eta*np.dot(X.T, y_pred - y)\n",
    "\n",
    "            # Track error\n",
    "            err_list[t] = np.sum(np.power(y - y_pred, 2)) / float(n)\n",
    "\n",
    "            # Stop iterations\n",
    "            if t > 0 and abs(err_list[t] - err_list[t - 1]) <= eps:\n",
    "                break\n",
    "\n",
    "            # Debug\n",
    "            if verbose:\n",
    "                x = np.reshape(X[:,1], (n,1))\n",
    "                cost = self.cost(x,y)\n",
    "                print (\"iteration: %d, cost: %f\" % (t+1, cost))\n",
    "\n",
    "        print(\"number of iterations: %d\" % (t + 1))\n",
    "\n",
    "        return self\n",
    "\n",
    "    def fit(self, X, y, l2regularize=None):\n",
    "        \"\"\"\n",
    "        Finds the coefficients of a {d-1}^th degree polynomial\n",
    "        that fits the data using the closed form solution.\n",
    "        \n",
    "        Parameters\n",
    "        --------------------\n",
    "            X       -- numpy array of shape (n,d), features\n",
    "            y       -- numpy array of shape (n,), targets\n",
    "            l2regularize    -- set to None for no regularization. set to positive double for L2 regularization\n",
    "                \n",
    "        Returns\n",
    "        --------------------        \n",
    "            self    -- an instance of self\n",
    "        \"\"\"\n",
    "\n",
    "        X = self.generate_polynomial_features(X)  # map features\n",
    "\n",
    "        # Implement closed-form solution\n",
    "        XTX_inv = np.linalg.pinv(np.dot(X.T, X))\n",
    "        self.coef_ = np.dot(XTX_inv.dot(X.T), y)\n",
    "\n",
    "    def predict(self, X):\n",
    "        \"\"\"\n",
    "        Predict output for X.\n",
    "        \n",
    "        Parameters\n",
    "        --------------------\n",
    "            X       -- numpy array of shape (n,d), features\n",
    "        \n",
    "        Returns\n",
    "        --------------------\n",
    "            y       -- numpy array of shape (n,), predictions\n",
    "        \"\"\"\n",
    "        if self.coef_ is None:\n",
    "            raise Exception(\"Model not initialized. Perform a fit first.\")\n",
    "        \n",
    "        # Predict y\n",
    "        X = self.generate_polynomial_features(X)  # map features\n",
    "        y = np.dot(X, self.coef_)\n",
    "\n",
    "        return y\n",
    "\n",
    "    def cost(self, X, y):\n",
    "        \"\"\"\n",
    "        Calculates the objective function.\n",
    "        \n",
    "        Parameters\n",
    "        --------------------\n",
    "            X       -- numpy array of shape (n,d), features\n",
    "            y       -- numpy array of shape (n,), targets\n",
    "        \n",
    "        Returns\n",
    "        --------------------\n",
    "            cost    -- float, objective J(w)\n",
    "        \"\"\"\n",
    "        # Compute J(w)\n",
    "        y_pred = self.predict(X)\n",
    "        cost = np.sum((y_pred - y) ** 2)\n",
    "        \n",
    "        return cost\n",
    "\n",
    "    def rms_error(self, X, y):\n",
    "        \"\"\"\n",
    "        Calculates the root mean square error.\n",
    "        \n",
    "        Parameters\n",
    "        --------------------\n",
    "            X       -- numpy array of shape (n,d), features\n",
    "            y       -- numpy array of shape (n,), targets\n",
    "        \n",
    "        Returns\n",
    "        --------------------\n",
    "            error   -- float, RMSE\n",
    "        \"\"\"\n",
    "        \n",
    "        # Compute RMSE\n",
    "        N = X.shape[0]\n",
    "        error = np.sqrt(self.cost(X,y)/N)\n",
    "        \n",
    "        return error\n",
    "\n",
    "    def plot_regression(self, xmin=0, xmax=1, n=50, **kwargs):\n",
    "        \"\"\"Plot regression line.\"\"\"\n",
    "        if \"color\" not in kwargs:\n",
    "            kwargs[\"color\"] = \"r\"\n",
    "        if \"linestyle\" not in kwargs:\n",
    "            kwargs[\"linestyle\"] = \"-\"\n",
    "\n",
    "        X = np.reshape(np.linspace(0, 1, n), (n, 1))\n",
    "        y = self.predict(X)\n",
    "        plot_data(X, y, **kwargs)\n",
    "        plt.show()"
   ]
  },
  {
   "cell_type": "code",
   "execution_count": 5,
   "metadata": {
    "colab": {
     "base_uri": "https://localhost:8080/",
     "height": 1000
    },
    "executionInfo": {
     "elapsed": 1764,
     "status": "ok",
     "timestamp": 1606196744270,
     "user": {
      "displayName": "Amith Lukkoor",
      "photoUrl": "https://lh3.googleusercontent.com/a-/AOh14GjcH8ZwqQ18Xi2HRThO0tbx4BBzfkm4zIxFsOqi_w=s64",
      "userId": "14016473322684926525"
     },
     "user_tz": 480
    },
    "id": "XdVyzfo9ej9r",
    "outputId": "15d39371-9ac1-408d-e279-fc2cf5a5c34e"
   },
   "outputs": [
    {
     "name": "stdout",
     "output_type": "stream",
     "text": [
      "Visualizing data...\n"
     ]
    },
    {
     "data": {
      "image/png": "[encoded data removed]",
      "text/plain": [
       "<Figure size 432x288 with 1 Axes>"
      ]
     },
     "metadata": {
      "needs_background": "light"
     },
     "output_type": "display_data"
    }
   ],
   "source": [
    "# Load data with correct file path\n",
    "train_data = load_data(\"./train.csv\")\n",
    "test_data = load_data(\"./test.csv\")\n",
    "\n",
    "# Main code for visualizations\n",
    "print(\"Visualizing data...\")\n",
    "train_data.plot()"
   ]
  },
  {
   "cell_type": "code",
   "execution_count": 13,
   "metadata": {
    "colab": {
     "base_uri": "https://localhost:8080/",
     "height": 1000
    },
    "executionInfo": {
     "elapsed": 1764,
     "status": "ok",
     "timestamp": 1606196744270,
     "user": {
      "displayName": "Amith Lukkoor",
      "photoUrl": "https://lh3.googleusercontent.com/a-/AOh14GjcH8ZwqQ18Xi2HRThO0tbx4BBzfkm4zIxFsOqi_w=s64",
      "userId": "14016473322684926525"
     },
     "user_tz": 480
    },
    "id": "XdVyzfo9ej9r",
    "outputId": "15d39371-9ac1-408d-e279-fc2cf5a5c34e"
   },
   "outputs": [
    {
     "name": "stdout",
     "output_type": "stream",
     "text": [
      "Investigating linear regression...\n",
      "\n",
      "eta:  1e-05\n",
      "number of iterations: 10000\n",
      "cost:  60.48308903597062\n",
      "coefficients:  [ 1.58572635 -1.41669696]\n",
      "\n",
      "eta:  0.0001\n",
      "number of iterations: 4722\n",
      "cost:  60.41076204171496\n",
      "coefficients:  [ 1.5912286  -1.48402773]\n",
      "\n",
      "eta:  0.01\n",
      "number of iterations: 49\n",
      "cost:  60.41076204171103\n",
      "coefficients:  [ 1.59122864 -1.48402821]\n",
      "\n",
      "eta:  0.0168\n",
      "number of iterations: 10000\n",
      "cost:  1.0334852857059495e+224\n",
      "coefficients:  [-1.30489153e+111 -1.06471386e+110]\n",
      "\n",
      "eta:  1/(1+t)\n",
      "number of iterations: 358\n",
      "cost:  60.41076204171108\n",
      "coefficients:  [ 1.59122863 -1.48402817]\n",
      "\n",
      "closed form solution\n",
      "cost:  60.41076204171104\n",
      "coefficients:  [ 1.59122864 -1.48402822]\n"
     ]
    }
   ],
   "source": [
    "# Main code for linear regression\n",
    "print(\"Investigating linear regression...\")\n",
    "model = PolynomialRegression(1)\n",
    "\n",
    "# Stochastic gradient Descent for linear regression\n",
    "for eta in [10e-6, 10e-5, 10e-3, 0.0168, None]:\n",
    "  print()\n",
    "  eta_output = eta if eta else \"1/(1+t)\"\n",
    "  print('eta: ', eta_output)\n",
    "  model.fit_GD(train_data.X, train_data.y, eta=eta)\n",
    "  print('cost: ', model.cost(train_data.X, train_data.y))\n",
    "  print('coefficients: ', model.coef_)\n",
    "\n",
    "# Closed-form solution for linear regression\n",
    "model.fit(train_data.X, train_data.y)\n",
    "print()\n",
    "print('closed form solution')\n",
    "print('cost: ', model.cost(train_data.X, train_data.y))\n",
    "print('coefficients: ', model.coef_)"
   ]
  },
  {
   "cell_type": "code",
   "execution_count": 10,
   "metadata": {
    "colab": {
     "base_uri": "https://localhost:8080/",
     "height": 1000
    },
    "executionInfo": {
     "elapsed": 1764,
     "status": "ok",
     "timestamp": 1606196744270,
     "user": {
      "displayName": "Amith Lukkoor",
      "photoUrl": "https://lh3.googleusercontent.com/a-/AOh14GjcH8ZwqQ18Xi2HRThO0tbx4BBzfkm4zIxFsOqi_w=s64",
      "userId": "14016473322684926525"
     },
     "user_tz": 480
    },
    "id": "XdVyzfo9ej9r",
    "outputId": "15d39371-9ac1-408d-e279-fc2cf5a5c34e"
   },
   "outputs": [
    {
     "name": "stdout",
     "output_type": "stream",
     "text": [
      "Investigating polynomial regression...\n"
     ]
    },
    {
     "data": {
      "image/png": "[encoded data removed]",
      "text/plain": [
       "<Figure size 432x288 with 1 Axes>"
      ]
     },
     "metadata": {
      "needs_background": "light"
     },
     "output_type": "display_data"
    },
    {
     "name": "stdout",
     "output_type": "stream",
     "text": [
      "Best Train Degree:  10\n",
      "Best Test Degree:  3\n",
      "Done!\n"
     ]
    }
   ],
   "source": [
    "# Main code for polynomial regression\n",
    "print(\"Investigating polynomial regression...\")\n",
    "\n",
    "train_rmse = []\n",
    "test_rmse = []\n",
    "\n",
    "for i in range(11):\n",
    "  model = PolynomialRegression(i)\n",
    "\n",
    "  # Find RMSE for training data\n",
    "  model.fit(train_data.X, train_data.y)\n",
    "  train_rmse.append(model.rms_error(train_data.X, train_data.y))\n",
    "\n",
    "  # Find RMSE for testing Data\n",
    "  test_rmse.append(model.rms_error(test_data.X, test_data.y))\n",
    "\n",
    "# Plot and report results\n",
    "plt.plot(np.arange(11), train_rmse, label='Training Error')\n",
    "plt.plot(np.arange(11), test_rmse, label='Testing Error')\n",
    "plt.xlabel('Degree')\n",
    "plt.ylabel('RMS Error')\n",
    "plt.legend()\n",
    "plt.show()\n",
    "\n",
    "print('Best Train Degree: ', np.argmin(train_rmse))\n",
    "print('Best Test Degree: ', np.argmin(test_rmse))\n",
    "\n",
    "print(\"Done!\")"
   ]
  }
 ],
 "metadata": {
  "colab": {
   "collapsed_sections": [],
   "name": "hw2.ipynb",
   "provenance": [
    {
     "file_id": "1II-RqitIRp3HOovyyo3aNDXu21gB7ek_",
     "timestamp": 1604301935645
    },
    {
     "file_id": "1fl_SOlAx2dLOF6wV8rO24wq3Nd0vT4_x",
     "timestamp": 1604301792637
    }
   ]
  },
  "kernelspec": {
   "display_name": "Python 3",
   "language": "python",
   "name": "python3"
  },
  "language_info": {
   "codemirror_mode": {
    "name": "ipython",
    "version": 3
   },
   "file_extension": ".py",
   "mimetype": "text/x-python",
   "name": "python",
   "nbconvert_exporter": "python",
   "pygments_lexer": "ipython3",
   "version": "3.7.4"
  }
 },
 "nbformat": 4,
 "nbformat_minor": 1
}
