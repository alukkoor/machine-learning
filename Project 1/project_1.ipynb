{
 "cells": [
  {
   "cell_type": "code",
   "execution_count": 1,
   "metadata": {},
   "outputs": [],
   "source": [
    "import pandas as pd\n",
    "import numpy as np\n",
    "import matplotlib.pyplot as plt\n",
    "\n",
    "from sklearn.tree import DecisionTreeClassifier\n",
    "from sklearn.neighbors import KNeighborsClassifier\n",
    "from sklearn.model_selection import cross_val_score\n",
    "from sklearn import metrics\n",
    "from sklearn.preprocessing import StandardScaler\n",
    "from sklearn.model_selection import StratifiedShuffleSplit"
   ]
  },
  {
   "cell_type": "code",
   "execution_count": 2,
   "metadata": {},
   "outputs": [
    {
     "data": {
      "text/html": [
       "<div>\n",
       "<style scoped>\n",
       "    .dataframe tbody tr th:only-of-type {\n",
       "        vertical-align: middle;\n",
       "    }\n",
       "\n",
       "    .dataframe tbody tr th {\n",
       "        vertical-align: top;\n",
       "    }\n",
       "\n",
       "    .dataframe thead th {\n",
       "        text-align: right;\n",
       "    }\n",
       "</style>\n",
       "<table border=\"1\" class=\"dataframe\">\n",
       "  <thead>\n",
       "    <tr style=\"text-align: right;\">\n",
       "      <th></th>\n",
       "      <th>workclass</th>\n",
       "      <th>education</th>\n",
       "      <th>marital-status</th>\n",
       "      <th>occupation</th>\n",
       "      <th>relationship</th>\n",
       "      <th>race</th>\n",
       "      <th>native-country</th>\n",
       "      <th>age</th>\n",
       "      <th>fnlwgt</th>\n",
       "      <th>education-nums</th>\n",
       "      <th>capital-gain</th>\n",
       "      <th>capital-loss</th>\n",
       "      <th>hours-per-week</th>\n",
       "      <th>sex</th>\n",
       "      <th>&gt;50K</th>\n",
       "    </tr>\n",
       "  </thead>\n",
       "  <tbody>\n",
       "    <tr>\n",
       "      <th>0</th>\n",
       "      <td>2</td>\n",
       "      <td>4</td>\n",
       "      <td>1</td>\n",
       "      <td>5</td>\n",
       "      <td>3</td>\n",
       "      <td>1</td>\n",
       "      <td>1</td>\n",
       "      <td>52</td>\n",
       "      <td>209642</td>\n",
       "      <td>9</td>\n",
       "      <td>0</td>\n",
       "      <td>0</td>\n",
       "      <td>45</td>\n",
       "      <td>0</td>\n",
       "      <td>1</td>\n",
       "    </tr>\n",
       "    <tr>\n",
       "      <th>1</th>\n",
       "      <td>1</td>\n",
       "      <td>11</td>\n",
       "      <td>3</td>\n",
       "      <td>6</td>\n",
       "      <td>4</td>\n",
       "      <td>1</td>\n",
       "      <td>1</td>\n",
       "      <td>31</td>\n",
       "      <td>45781</td>\n",
       "      <td>14</td>\n",
       "      <td>14084</td>\n",
       "      <td>0</td>\n",
       "      <td>50</td>\n",
       "      <td>1</td>\n",
       "      <td>1</td>\n",
       "    </tr>\n",
       "    <tr>\n",
       "      <th>2</th>\n",
       "      <td>1</td>\n",
       "      <td>1</td>\n",
       "      <td>1</td>\n",
       "      <td>5</td>\n",
       "      <td>3</td>\n",
       "      <td>1</td>\n",
       "      <td>1</td>\n",
       "      <td>42</td>\n",
       "      <td>159449</td>\n",
       "      <td>13</td>\n",
       "      <td>5178</td>\n",
       "      <td>0</td>\n",
       "      <td>40</td>\n",
       "      <td>0</td>\n",
       "      <td>1</td>\n",
       "    </tr>\n",
       "    <tr>\n",
       "      <th>3</th>\n",
       "      <td>1</td>\n",
       "      <td>2</td>\n",
       "      <td>1</td>\n",
       "      <td>5</td>\n",
       "      <td>3</td>\n",
       "      <td>5</td>\n",
       "      <td>1</td>\n",
       "      <td>37</td>\n",
       "      <td>280464</td>\n",
       "      <td>10</td>\n",
       "      <td>0</td>\n",
       "      <td>0</td>\n",
       "      <td>80</td>\n",
       "      <td>0</td>\n",
       "      <td>1</td>\n",
       "    </tr>\n",
       "    <tr>\n",
       "      <th>4</th>\n",
       "      <td>6</td>\n",
       "      <td>1</td>\n",
       "      <td>1</td>\n",
       "      <td>6</td>\n",
       "      <td>3</td>\n",
       "      <td>2</td>\n",
       "      <td>8</td>\n",
       "      <td>30</td>\n",
       "      <td>141297</td>\n",
       "      <td>13</td>\n",
       "      <td>0</td>\n",
       "      <td>0</td>\n",
       "      <td>40</td>\n",
       "      <td>0</td>\n",
       "      <td>1</td>\n",
       "    </tr>\n",
       "  </tbody>\n",
       "</table>\n",
       "</div>"
      ],
      "text/plain": [
       "   workclass  education  marital-status  occupation  relationship  race  \\\n",
       "0          2          4               1           5             3     1   \n",
       "1          1         11               3           6             4     1   \n",
       "2          1          1               1           5             3     1   \n",
       "3          1          2               1           5             3     5   \n",
       "4          6          1               1           6             3     2   \n",
       "\n",
       "   native-country  age  fnlwgt  education-nums  capital-gain  capital-loss  \\\n",
       "0               1   52  209642               9             0             0   \n",
       "1               1   31   45781              14         14084             0   \n",
       "2               1   42  159449              13          5178             0   \n",
       "3               1   37  280464              10             0             0   \n",
       "4               8   30  141297              13             0             0   \n",
       "\n",
       "   hours-per-week  sex  >50K  \n",
       "0              45    0     1  \n",
       "1              50    1     1  \n",
       "2              40    0     1  \n",
       "3              80    0     1  \n",
       "4              40    0     1  "
      ]
     },
     "execution_count": 2,
     "metadata": {},
     "output_type": "execute_result"
    }
   ],
   "source": [
    "data_file = \"adult_subsample.csv\"\n",
    "df = pd.read_csv(data_file)\n",
    "df.head()"
   ]
  },
  {
   "cell_type": "code",
   "execution_count": 3,
   "metadata": {},
   "outputs": [
    {
     "name": "stdout",
     "output_type": "stream",
     "text": [
      "(1000, 14)\n"
     ]
    }
   ],
   "source": [
    "# Partition into predictor and response variables\n",
    "X = df.iloc[:,:-1].values\n",
    "y = df.iloc[:, -1].values\n",
    "\n",
    "# Normalize X\n",
    "scaler = StandardScaler()\n",
    "scaler.fit(X)\n",
    "X = scaler.transform(X)\n",
    "print(X.shape)"
   ]
  },
  {
   "cell_type": "code",
   "execution_count": 4,
   "metadata": {},
   "outputs": [
    {
     "name": "stdout",
     "output_type": "stream",
     "text": [
      "Classifying using Decision Tree...\n",
      "\t-- training error: 0.000\n"
     ]
    }
   ],
   "source": [
    "# Evaluate training error of Decision Tree classifier\n",
    "print('Classifying using Decision Tree...')\n",
    "clf = DecisionTreeClassifier(criterion='entropy')\n",
    "clf.fit(X,y)\n",
    "y_pred = clf.predict(X)\n",
    "train_error = 1 - metrics.accuracy_score(y, y_pred, normalize=True)\n",
    "print('\\t-- training error: %.3f' % train_error)"
   ]
  },
  {
   "cell_type": "code",
   "execution_count": 5,
   "metadata": {},
   "outputs": [
    {
     "name": "stdout",
     "output_type": "stream",
     "text": [
      "Classifying using k-Nearest Neighbors...\n",
      "\t-- training error for k=3: 0.114\n",
      "\t-- training error for k=5: 0.129\n",
      "\t-- training error for k=7: 0.152\n"
     ]
    }
   ],
   "source": [
    "# Evaluate training error of k-Nearest Neighbors classifier\n",
    "# use k = 3, 5, 7 for n_neighbors\n",
    "print('Classifying using k-Nearest Neighbors...')\n",
    "for k in [3,5,7]:\n",
    "  clf = KNeighborsClassifier(n_neighbors=k)\n",
    "  clf.fit(X,y)\n",
    "  y_pred = clf.predict(X)\n",
    "  train_error = 1 - metrics.accuracy_score(y, y_pred, normalize=True)\n",
    "  print('\\t-- training error for k=%d: %.3f' % (k, train_error))"
   ]
  },
  {
   "cell_type": "code",
   "execution_count": 6,
   "metadata": {},
   "outputs": [],
   "source": [
    "def error(clf, X, y, ntrials=100, test_size=0.2) :\n",
    "    \"\"\"\n",
    "    Computes the classifier error over a random split of the data,\n",
    "    averaged over ntrials runs.\n",
    "    \"\"\"\n",
    "\n",
    "    sss = StratifiedShuffleSplit(ntrials, test_size=test_size, random_state=0)\n",
    "    train_error, test_error, f1_score = 0, 0, 0\n",
    "\n",
    "    for train_index, test_index in sss.split(X, y):\n",
    "      X_train, X_test = X[train_index], X[test_index]\n",
    "      y_train, y_test = y[train_index], y[test_index]\n",
    "      \n",
    "      # Training error\n",
    "      clf.fit(X_train, y_train)\n",
    "      y_pred = clf.predict(X_train)\n",
    "      train_error += 1 - metrics.accuracy_score(y_train, y_pred, normalize=True)\n",
    "      \n",
    "      # Validation error\n",
    "      y_pred = clf.predict(X_test)\n",
    "      test_error += 1 - metrics.accuracy_score(y_test, y_pred, normalize=True)\n",
    "      f1_score += metrics.f1_score(y_test, y_pred, average='micro')\n",
    "\n",
    "    # Average returns\n",
    "    train_error, test_error, f1_score = [x/ntrials for x in [train_error, test_error, f1_score]]\n",
    "\n",
    "    return train_error, test_error, f1_score"
   ]
  },
  {
   "cell_type": "code",
   "execution_count": 7,
   "metadata": {},
   "outputs": [
    {
     "name": "stdout",
     "output_type": "stream",
     "text": [
      "Investigating various classifiers...\n",
      "Cross-validation using Decision Tree...\n",
      "\t-- training error: 0.000\n",
      "\t-- testing error: 0.205\n",
      "\t-- f1 score: 0.795\n",
      "Cross-validation using 5-Nearest Neighbors\n",
      "\t-- average training error: 0.133\n",
      "\t-- average testing error: 0.209\n",
      "\t-- f1 score: 0.791\n"
     ]
    }
   ],
   "source": [
    "# Use cross-validation to compute average training and test error of classifiers\n",
    "print('Investigating various classifiers...')\n",
    "\n",
    "print('Cross-validation using Decision Tree...')\n",
    "clf = DecisionTreeClassifier(criterion='entropy')\n",
    "train_error, test_error, f1_score = error(clf, X, y)\n",
    "print('\\t-- training error: %.3f' % train_error)\n",
    "print('\\t-- testing error: %.3f' % test_error)\n",
    "print('\\t-- f1 score: %.3f' % f1_score)\n",
    "\n",
    "k = 5\n",
    "print('Cross-validation using %d-Nearest Neighbors' % k)\n",
    "clf = KNeighborsClassifier(n_neighbors=k)\n",
    "train_error, test_error, f1_score = error(clf, X, y)\n",
    "print('\\t-- average training error: %.3f' % train_error)\n",
    "print('\\t-- average testing error: %.3f' % test_error)\n",
    "print('\\t-- f1 score: %.3f' % f1_score)"
   ]
  },
  {
   "cell_type": "code",
   "execution_count": 8,
   "metadata": {},
   "outputs": [
    {
     "name": "stdout",
     "output_type": "stream",
     "text": [
      "Finding the best k...\n"
     ]
    },
    {
     "data": {
      "image/png": "[encoded data removed]",
      "text/plain": [
       "<Figure size 432x288 with 1 Axes>"
      ]
     },
     "metadata": {
      "needs_background": "light"
     },
     "output_type": "display_data"
    },
    {
     "name": "stdout",
     "output_type": "stream",
     "text": [
      "Best k:  27\n"
     ]
    }
   ],
   "source": [
    "# Use 10-fold cross-validation to find the best value of k for k-Nearest Neighbors classifier\n",
    "print('Finding the best k...')\n",
    "k_vals, err = [], []\n",
    "for k in range(50):\n",
    "  if k % 2 != 0:\n",
    "    clf = KNeighborsClassifier(n_neighbors=k)\n",
    "    accuracy_scorer = metrics.make_scorer(metrics.accuracy_score)\n",
    "    k_vals.append(k)\n",
    "    err.append(1 - np.average(cross_val_score(clf, X, y, cv=10, scoring=accuracy_scorer)))\n",
    "\n",
    "plt.plot(k_vals, err)\n",
    "plt.xlabel('k')\n",
    "plt.ylabel('Avg Testing Error')\n",
    "plt.show()\n",
    "\n",
    "best_k = k_vals[np.argmin(err)]\n",
    "print('Best k: ', best_k)"
   ]
  },
  {
   "cell_type": "code",
   "execution_count": 9,
   "metadata": {},
   "outputs": [
    {
     "name": "stdout",
     "output_type": "stream",
     "text": [
      "Investigating depths...\n"
     ]
    },
    {
     "data": {
      "image/png": "[encoded data removed]",
      "text/plain": [
       "<Figure size 432x288 with 1 Axes>"
      ]
     },
     "metadata": {
      "needs_background": "light"
     },
     "output_type": "display_data"
    },
    {
     "name": "stdout",
     "output_type": "stream",
     "text": [
      "Best Max Depth:  5\n"
     ]
    }
   ],
   "source": [
    "# Investigate various maximum depths for Decision Tree classifier\n",
    "print('Investigating depths...')\n",
    "d_vals, train_err, test_err = [], [], []\n",
    "for d in range(1, 21):\n",
    "  clf = DecisionTreeClassifier(criterion='entropy', max_depth=d)\n",
    "  train_error, test_error, _ = error(clf, X, y)\n",
    "  d_vals.append(d)\n",
    "  train_err.append(train_error)\n",
    "  test_err.append(test_error)\n",
    "\n",
    "plt.plot(d_vals, train_err, label='Training Error')\n",
    "plt.plot(d_vals, test_err, label='Testing Error')\n",
    "plt.xticks(range(1,21))\n",
    "plt.xlabel('Max Depth')\n",
    "plt.ylabel('Avg Error')\n",
    "plt.legend(loc='lower left')\n",
    "plt.show()\n",
    "\n",
    "best_d = d_vals[np.argmin(test_err)]\n",
    "print('Best Max Depth: ', best_d)"
   ]
  }
 ],
 "metadata": {
  "kernelspec": {
   "display_name": "Python 3",
   "language": "python",
   "name": "python3"
  },
  "language_info": {
   "codemirror_mode": {
    "name": "ipython",
    "version": 3
   },
   "file_extension": ".py",
   "mimetype": "text/x-python",
   "name": "python",
   "nbconvert_exporter": "python",
   "pygments_lexer": "ipython3",
   "version": "3.7.4"
  }
 },
 "nbformat": 4,
 "nbformat_minor": 4
}
