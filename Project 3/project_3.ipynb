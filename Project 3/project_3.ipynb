{
 "cells": [
  {
   "cell_type": "code",
   "execution_count": 1,
   "metadata": {
    "executionInfo": {
     "elapsed": 3237,
     "status": "ok",
     "timestamp": 1606761448065,
     "user": {
      "displayName": "Amith Lukkoor",
      "photoUrl": "https://lh3.googleusercontent.com/a-/AOh14GjcH8ZwqQ18Xi2HRThO0tbx4BBzfkm4zIxFsOqi_w=s64",
      "userId": "14016473322684926525"
     },
     "user_tz": 480
    },
    "id": "ZQ57FP3Zdq19"
   },
   "outputs": [],
   "source": [
    "import os\n",
    "import numpy as np\n",
    "import matplotlib.pyplot as plt\n",
    "import torch\n",
    "from torch.utils.data import TensorDataset, DataLoader\n",
    "from PIL import Image"
   ]
  },
  {
   "cell_type": "code",
   "execution_count": 2,
   "metadata": {
    "executionInfo": {
     "elapsed": 22396,
     "status": "ok",
     "timestamp": 1606761467232,
     "user": {
      "displayName": "Amith Lukkoor",
      "photoUrl": "https://lh3.googleusercontent.com/a-/AOh14GjcH8ZwqQ18Xi2HRThO0tbx4BBzfkm4zIxFsOqi_w=s64",
      "userId": "14016473322684926525"
     },
     "user_tz": 480
    },
    "id": "q4RwWjtN2sf4"
   },
   "outputs": [],
   "source": [
    "class OneLayerNetwork(torch.nn.Module):\n",
    "    # Implement OneLayerNetwork with torch.nn.Linear\n",
    "    def __init__(self):\n",
    "        super(OneLayerNetwork, self).__init__()\n",
    "        self.linear = torch.nn.Linear(784, 3)\n",
    "    \n",
    "    # Implement the foward function\n",
    "    def forward(self, x):\n",
    "        # x.shape = (n_batch, n_features)\n",
    "        outputs = self.linear(x)\n",
    "        return outputs"
   ]
  },
  {
   "cell_type": "code",
   "execution_count": 3,
   "metadata": {
    "executionInfo": {
     "elapsed": 22395,
     "status": "ok",
     "timestamp": 1606761467233,
     "user": {
      "displayName": "Amith Lukkoor",
      "photoUrl": "https://lh3.googleusercontent.com/a-/AOh14GjcH8ZwqQ18Xi2HRThO0tbx4BBzfkm4zIxFsOqi_w=s64",
      "userId": "14016473322684926525"
     },
     "user_tz": 480
    },
    "id": "JRbW6WPv25tE"
   },
   "outputs": [],
   "source": [
    "class TwoLayerNetwork(torch.nn.Module):\n",
    "    # Implement TwoLayerNetwork with torch.nn.Linear\n",
    "    def __init__(self):\n",
    "        super(TwoLayerNetwork, self).__init__()\n",
    "        self.linear_one = torch.nn.Linear(784, 400)\n",
    "        self.linear_two = torch.nn.Linear(400, 3)\n",
    "    \n",
    "    # Implement the foward function\n",
    "    def forward(self, x):\n",
    "        # x.shape = (n_batch, n_features)\n",
    "        outputs = self.linear_two(torch.sigmoid(self.linear_one(x)))\n",
    "        return outputs"
   ]
  },
  {
   "cell_type": "code",
   "execution_count": 4,
   "metadata": {
    "executionInfo": {
     "elapsed": 22394,
     "status": "ok",
     "timestamp": 1606761467234,
     "user": {
      "displayName": "Amith Lukkoor",
      "photoUrl": "https://lh3.googleusercontent.com/a-/AOh14GjcH8ZwqQ18Xi2HRThO0tbx4BBzfkm4zIxFsOqi_w=s64",
      "userId": "14016473322684926525"
     },
     "user_tz": 480
    },
    "id": "I06zHwgTeSs3"
   },
   "outputs": [],
   "source": [
    "# Load data from csv\n",
    "# X.shape = (n_examples, n_features), y.shape = (n_examples, )\n",
    "def load_data(filename):\n",
    "    data = np.loadtxt(filename)\n",
    "    y = data[:, 0].astype(int)\n",
    "    X = data[:, 1:].astype(np.float32) / 255\n",
    "    return X, y"
   ]
  },
  {
   "cell_type": "code",
   "execution_count": 5,
   "metadata": {
    "executionInfo": {
     "elapsed": 22391,
     "status": "ok",
     "timestamp": 1606761467235,
     "user": {
      "displayName": "Amith Lukkoor",
      "photoUrl": "https://lh3.googleusercontent.com/a-/AOh14GjcH8ZwqQ18Xi2HRThO0tbx4BBzfkm4zIxFsOqi_w=s64",
      "userId": "14016473322684926525"
     },
     "user_tz": 480
    },
    "id": "RqaCgw9Z4Eef"
   },
   "outputs": [],
   "source": [
    "def evaluate_loss(model, criterion, dataloader):\n",
    "    model.eval()\n",
    "    total_loss = 0.0\n",
    "    for batch_X, batch_y in dataloader:\n",
    "        outputs = model(batch_X)\n",
    "        loss = criterion(outputs, batch_y)\n",
    "        total_loss += loss.item()\n",
    "        \n",
    "    return total_loss / len(dataloader)"
   ]
  },
  {
   "cell_type": "code",
   "execution_count": 6,
   "metadata": {
    "executionInfo": {
     "elapsed": 22390,
     "status": "ok",
     "timestamp": 1606761467236,
     "user": {
      "displayName": "Amith Lukkoor",
      "photoUrl": "https://lh3.googleusercontent.com/a-/AOh14GjcH8ZwqQ18Xi2HRThO0tbx4BBzfkm4zIxFsOqi_w=s64",
      "userId": "14016473322684926525"
     },
     "user_tz": 480
    },
    "id": "uEnwn4sC4F3B"
   },
   "outputs": [],
   "source": [
    "def evaluate_acc(model, dataloader):\n",
    "    model.eval()\n",
    "    total_acc = 0.0\n",
    "    for batch_X, batch_y in dataloader:\n",
    "        outputs = model(batch_X)\n",
    "        predictions = torch.argmax(outputs, dim=1)\n",
    "        total_acc += (predictions==batch_y).sum()\n",
    "        \n",
    "    return total_acc / len(dataloader.dataset)"
   ]
  },
  {
   "cell_type": "code",
   "execution_count": 7,
   "metadata": {
    "executionInfo": {
     "elapsed": 22389,
     "status": "ok",
     "timestamp": 1606761467236,
     "user": {
      "displayName": "Amith Lukkoor",
      "photoUrl": "https://lh3.googleusercontent.com/a-/AOh14GjcH8ZwqQ18Xi2HRThO0tbx4BBzfkm4zIxFsOqi_w=s64",
      "userId": "14016473322684926525"
     },
     "user_tz": 480
    },
    "id": "6OpXc_t7Jc5_"
   },
   "outputs": [],
   "source": [
    "def train(model, criterion, optimizer, train_loader, valid_loader):\n",
    "    train_loss_list = []\n",
    "    valid_loss_list = []\n",
    "    train_acc_list = []\n",
    "    valid_acc_list = []\n",
    "    for epoch in range(1, 31):\n",
    "        model.train()\n",
    "        for batch_X, batch_y in train_loader:\n",
    "            # Implement the training process\n",
    "            optimizer.zero_grad()   # Zeroes the gradient buffers\n",
    "            output = model(batch_X)\n",
    "            loss = criterion(output, batch_y)\n",
    "            loss.backward()\n",
    "            optimizer.step()    # Does the update\n",
    "            \n",
    "        train_loss = evaluate_loss(model, criterion, train_loader)\n",
    "        valid_loss = evaluate_loss(model, criterion, valid_loader)\n",
    "        train_acc = evaluate_acc(model, train_loader)\n",
    "        valid_acc = evaluate_acc(model, valid_loader)\n",
    "        train_loss_list.append(train_loss)\n",
    "        valid_loss_list.append(valid_loss)\n",
    "        train_acc_list.append(train_acc)\n",
    "        valid_acc_list.append(valid_acc)\n",
    "\n",
    "        print(f\"| epoch {epoch:2d} | train loss {train_loss:.6f} | train acc {train_acc:.6f} | valid loss {valid_loss:.6f} | valid acc {valid_acc:.6f} |\")\n",
    "\n",
    "    return train_loss_list, valid_loss_list, train_acc_list, valid_acc_list"
   ]
  },
  {
   "cell_type": "code",
   "execution_count": 8,
   "metadata": {
    "colab": {
     "base_uri": "https://localhost:8080/",
     "height": 1000
    },
    "executionInfo": {
     "elapsed": 5983,
     "status": "ok",
     "timestamp": 1606762016252,
     "user": {
      "displayName": "Amith Lukkoor",
      "photoUrl": "https://lh3.googleusercontent.com/a-/AOh14GjcH8ZwqQ18Xi2HRThO0tbx4BBzfkm4zIxFsOqi_w=s64",
      "userId": "14016473322684926525"
     },
     "user_tz": 480
    },
    "id": "KMmurb4-d39G",
    "outputId": "7fa840fb-4475-4a3c-be06-2a80b69a1176"
   },
   "outputs": [],
   "source": [
    "# Fix random seed\n",
    "np.random.seed(0)\n",
    "torch.manual_seed(0)\n",
    "\n",
    "# Load data with correct file path\n",
    "# X.shape = (n_examples, n_features)\n",
    "# y.shape = (n_examples, )\n",
    "X_train, y_train = load_data(\"./hw3_train.csv\")\n",
    "X_valid, y_valid = load_data(\"./hw3_valid.csv\")\n",
    "X_test, y_test = load_data(\"./hw3_test.csv\")"
   ]
  },
  {
   "cell_type": "code",
   "execution_count": 9,
   "metadata": {
    "colab": {
     "base_uri": "https://localhost:8080/",
     "height": 1000
    },
    "executionInfo": {
     "elapsed": 5983,
     "status": "ok",
     "timestamp": 1606762016252,
     "user": {
      "displayName": "Amith Lukkoor",
      "photoUrl": "https://lh3.googleusercontent.com/a-/AOh14GjcH8ZwqQ18Xi2HRThO0tbx4BBzfkm4zIxFsOqi_w=s64",
      "userId": "14016473322684926525"
     },
     "user_tz": 480
    },
    "id": "KMmurb4-d39G",
    "outputId": "7fa840fb-4475-4a3c-be06-2a80b69a1176"
   },
   "outputs": [
    {
     "data": {
      "image/png": "[encoded data removed]",
      "text/plain": [
       "<Figure size 432x288 with 3 Axes>"
      ]
     },
     "metadata": {
      "needs_background": "light"
     },
     "output_type": "display_data"
    }
   ],
   "source": [
    "# Print out differnt training image categories\n",
    "fig, axs = plt.subplots(1, 3)\n",
    "idxs = [1, 4, 7]\n",
    "\n",
    "for k, idx in enumerate(idxs):\n",
    "    x = X_train[idx].reshape(28, 28)\n",
    "    img = Image.fromarray(x*255)\n",
    "    axs[k].imshow(img)"
   ]
  },
  {
   "cell_type": "code",
   "execution_count": 10,
   "metadata": {
    "colab": {
     "base_uri": "https://localhost:8080/",
     "height": 1000
    },
    "executionInfo": {
     "elapsed": 5983,
     "status": "ok",
     "timestamp": 1606762016252,
     "user": {
      "displayName": "Amith Lukkoor",
      "photoUrl": "https://lh3.googleusercontent.com/a-/AOh14GjcH8ZwqQ18Xi2HRThO0tbx4BBzfkm4zIxFsOqi_w=s64",
      "userId": "14016473322684926525"
     },
     "user_tz": 480
    },
    "id": "KMmurb4-d39G",
    "outputId": "7fa840fb-4475-4a3c-be06-2a80b69a1176"
   },
   "outputs": [],
   "source": [
    "# Convert numpy arrays to tensors\n",
    "X_train = torch.tensor(X_train)\n",
    "y_train = torch.tensor(y_train)\n",
    "X_valid = torch.tensor(X_valid)\n",
    "y_valid = torch.tensor(y_valid)\n",
    "X_test = torch.tensor(X_test)\n",
    "y_test = torch.tensor(y_test)\n",
    "\n",
    "# Prepare dataloaders for training, validation, and testing\n",
    "train_loader = DataLoader(TensorDataset(X_train, y_train), batch_size=10, shuffle=True)\n",
    "valid_loader = DataLoader(TensorDataset(X_valid, y_valid), batch_size=10)\n",
    "test_loader = DataLoader(TensorDataset(X_test, y_test), batch_size=10)"
   ]
  },
  {
   "cell_type": "code",
   "execution_count": 11,
   "metadata": {
    "colab": {
     "base_uri": "https://localhost:8080/",
     "height": 1000
    },
    "executionInfo": {
     "elapsed": 5983,
     "status": "ok",
     "timestamp": 1606762016252,
     "user": {
      "displayName": "Amith Lukkoor",
      "photoUrl": "https://lh3.googleusercontent.com/a-/AOh14GjcH8ZwqQ18Xi2HRThO0tbx4BBzfkm4zIxFsOqi_w=s64",
      "userId": "14016473322684926525"
     },
     "user_tz": 480
    },
    "id": "KMmurb4-d39G",
    "outputId": "7fa840fb-4475-4a3c-be06-2a80b69a1176"
   },
   "outputs": [
    {
     "name": "stdout",
     "output_type": "stream",
     "text": [
      "Start training OneLayerNetwork...\n",
      "| epoch  1 | train loss 0.700347 | train acc 0.880000 | valid loss 0.713287 | valid acc 0.846667 |\n",
      "| epoch  2 | train loss 0.480803 | train acc 0.946667 | valid loss 0.501334 | valid acc 0.886667 |\n",
      "| epoch  3 | train loss 0.363843 | train acc 0.963333 | valid loss 0.386324 | valid acc 0.933333 |\n",
      "| epoch  4 | train loss 0.293254 | train acc 0.976667 | valid loss 0.317292 | valid acc 0.933333 |\n",
      "| epoch  5 | train loss 0.247652 | train acc 0.973333 | valid loss 0.274081 | valid acc 0.940000 |\n",
      "| epoch  6 | train loss 0.215023 | train acc 0.976667 | valid loss 0.242991 | valid acc 0.946667 |\n",
      "| epoch  7 | train loss 0.189971 | train acc 0.980000 | valid loss 0.218144 | valid acc 0.946667 |\n",
      "| epoch  8 | train loss 0.170612 | train acc 0.980000 | valid loss 0.199352 | valid acc 0.960000 |\n",
      "| epoch  9 | train loss 0.155022 | train acc 0.980000 | valid loss 0.185477 | valid acc 0.960000 |\n",
      "| epoch 10 | train loss 0.142299 | train acc 0.986667 | valid loss 0.173548 | valid acc 0.960000 |\n",
      "| epoch 11 | train loss 0.130982 | train acc 0.986667 | valid loss 0.163043 | valid acc 0.960000 |\n",
      "| epoch 12 | train loss 0.121443 | train acc 0.986667 | valid loss 0.154212 | valid acc 0.960000 |\n",
      "| epoch 13 | train loss 0.112945 | train acc 0.986667 | valid loss 0.146530 | valid acc 0.960000 |\n",
      "| epoch 14 | train loss 0.105717 | train acc 0.986667 | valid loss 0.139972 | valid acc 0.960000 |\n",
      "| epoch 15 | train loss 0.099359 | train acc 0.986667 | valid loss 0.134280 | valid acc 0.960000 |\n",
      "| epoch 16 | train loss 0.093418 | train acc 0.986667 | valid loss 0.128915 | valid acc 0.960000 |\n",
      "| epoch 17 | train loss 0.088067 | train acc 0.986667 | valid loss 0.124478 | valid acc 0.966667 |\n",
      "| epoch 18 | train loss 0.083292 | train acc 0.990000 | valid loss 0.120311 | valid acc 0.960000 |\n",
      "| epoch 19 | train loss 0.078832 | train acc 0.990000 | valid loss 0.116794 | valid acc 0.966667 |\n",
      "| epoch 20 | train loss 0.074913 | train acc 0.990000 | valid loss 0.113178 | valid acc 0.966667 |\n",
      "| epoch 21 | train loss 0.071039 | train acc 0.990000 | valid loss 0.109865 | valid acc 0.973333 |\n",
      "| epoch 22 | train loss 0.067661 | train acc 0.990000 | valid loss 0.107404 | valid acc 0.973333 |\n",
      "| epoch 23 | train loss 0.064473 | train acc 0.990000 | valid loss 0.104608 | valid acc 0.973333 |\n",
      "| epoch 24 | train loss 0.061600 | train acc 0.990000 | valid loss 0.101842 | valid acc 0.980000 |\n",
      "| epoch 25 | train loss 0.058765 | train acc 0.993333 | valid loss 0.099675 | valid acc 0.973333 |\n",
      "| epoch 26 | train loss 0.056338 | train acc 0.993333 | valid loss 0.097591 | valid acc 0.973333 |\n",
      "| epoch 27 | train loss 0.053879 | train acc 0.993333 | valid loss 0.095545 | valid acc 0.980000 |\n",
      "| epoch 28 | train loss 0.051688 | train acc 0.996667 | valid loss 0.093817 | valid acc 0.980000 |\n",
      "| epoch 29 | train loss 0.049614 | train acc 0.996667 | valid loss 0.092202 | valid acc 0.980000 |\n",
      "| epoch 30 | train loss 0.047634 | train acc 0.996667 | valid loss 0.090349 | valid acc 0.980000 |\n",
      "Done!\n"
     ]
    }
   ],
   "source": [
    "# Prepare OneLayerNetwork, criterion, and optimizer\n",
    "model_one = OneLayerNetwork()\n",
    "criterion = torch.nn.CrossEntropyLoss()\n",
    "optimizer = torch.optim.Adam(model_one.parameters(), lr=0.0005)\n",
    "\n",
    "print(\"Start training OneLayerNetwork...\")\n",
    "results_one = train(model_one, criterion, optimizer, train_loader, valid_loader)\n",
    "print(\"Done!\")"
   ]
  },
  {
   "cell_type": "code",
   "execution_count": 12,
   "metadata": {
    "colab": {
     "base_uri": "https://localhost:8080/",
     "height": 1000
    },
    "executionInfo": {
     "elapsed": 5983,
     "status": "ok",
     "timestamp": 1606762016252,
     "user": {
      "displayName": "Amith Lukkoor",
      "photoUrl": "https://lh3.googleusercontent.com/a-/AOh14GjcH8ZwqQ18Xi2HRThO0tbx4BBzfkm4zIxFsOqi_w=s64",
      "userId": "14016473322684926525"
     },
     "user_tz": 480
    },
    "id": "KMmurb4-d39G",
    "outputId": "7fa840fb-4475-4a3c-be06-2a80b69a1176"
   },
   "outputs": [
    {
     "name": "stdout",
     "output_type": "stream",
     "text": [
      "Start training TwoLayerNetwork...\n",
      "| epoch  1 | train loss 0.511130 | train acc 0.960000 | valid loss 0.512690 | valid acc 0.946667 |\n",
      "| epoch  2 | train loss 0.287856 | train acc 0.973333 | valid loss 0.303268 | valid acc 0.940000 |\n",
      "| epoch  3 | train loss 0.187138 | train acc 0.980000 | valid loss 0.208556 | valid acc 0.953333 |\n",
      "| epoch  4 | train loss 0.135167 | train acc 0.980000 | valid loss 0.165074 | valid acc 0.966667 |\n",
      "| epoch  5 | train loss 0.102639 | train acc 0.986667 | valid loss 0.138180 | valid acc 0.966667 |\n",
      "| epoch  6 | train loss 0.081466 | train acc 0.986667 | valid loss 0.121921 | valid acc 0.966667 |\n",
      "| epoch  7 | train loss 0.065561 | train acc 0.996667 | valid loss 0.109645 | valid acc 0.973333 |\n",
      "| epoch  8 | train loss 0.055585 | train acc 0.996667 | valid loss 0.098795 | valid acc 0.973333 |\n",
      "| epoch  9 | train loss 0.045601 | train acc 1.000000 | valid loss 0.092296 | valid acc 0.980000 |\n",
      "| epoch 10 | train loss 0.038005 | train acc 1.000000 | valid loss 0.088600 | valid acc 0.980000 |\n",
      "| epoch 11 | train loss 0.032349 | train acc 1.000000 | valid loss 0.083350 | valid acc 0.973333 |\n",
      "| epoch 12 | train loss 0.028012 | train acc 1.000000 | valid loss 0.080948 | valid acc 0.973333 |\n",
      "| epoch 13 | train loss 0.024200 | train acc 1.000000 | valid loss 0.076332 | valid acc 0.986667 |\n",
      "| epoch 14 | train loss 0.021342 | train acc 1.000000 | valid loss 0.074991 | valid acc 0.980000 |\n",
      "| epoch 15 | train loss 0.018590 | train acc 1.000000 | valid loss 0.072485 | valid acc 0.980000 |\n",
      "| epoch 16 | train loss 0.016231 | train acc 1.000000 | valid loss 0.069708 | valid acc 0.980000 |\n",
      "| epoch 17 | train loss 0.014408 | train acc 1.000000 | valid loss 0.068111 | valid acc 0.980000 |\n",
      "| epoch 18 | train loss 0.012947 | train acc 1.000000 | valid loss 0.067133 | valid acc 0.980000 |\n",
      "| epoch 19 | train loss 0.011713 | train acc 1.000000 | valid loss 0.066082 | valid acc 0.980000 |\n",
      "| epoch 20 | train loss 0.010557 | train acc 1.000000 | valid loss 0.065782 | valid acc 0.980000 |\n",
      "| epoch 21 | train loss 0.009634 | train acc 1.000000 | valid loss 0.064763 | valid acc 0.980000 |\n",
      "| epoch 22 | train loss 0.008704 | train acc 1.000000 | valid loss 0.063138 | valid acc 0.980000 |\n",
      "| epoch 23 | train loss 0.007990 | train acc 1.000000 | valid loss 0.063436 | valid acc 0.980000 |\n",
      "| epoch 24 | train loss 0.007357 | train acc 1.000000 | valid loss 0.062565 | valid acc 0.980000 |\n",
      "| epoch 25 | train loss 0.006756 | train acc 1.000000 | valid loss 0.061156 | valid acc 0.980000 |\n",
      "| epoch 26 | train loss 0.006267 | train acc 1.000000 | valid loss 0.062923 | valid acc 0.980000 |\n",
      "| epoch 27 | train loss 0.005810 | train acc 1.000000 | valid loss 0.060553 | valid acc 0.980000 |\n",
      "| epoch 28 | train loss 0.005398 | train acc 1.000000 | valid loss 0.060327 | valid acc 0.980000 |\n",
      "| epoch 29 | train loss 0.005040 | train acc 1.000000 | valid loss 0.062401 | valid acc 0.980000 |\n",
      "| epoch 30 | train loss 0.004690 | train acc 1.000000 | valid loss 0.060489 | valid acc 0.980000 |\n",
      "Done!\n"
     ]
    }
   ],
   "source": [
    "# Prepare TwoLayerNetwork, criterion, and optimizer\n",
    "model_two = TwoLayerNetwork()\n",
    "criterion = torch.nn.CrossEntropyLoss()\n",
    "optimizer = torch.optim.Adam(model_two.parameters(), lr=0.0005)\n",
    "\n",
    "print(\"Start training TwoLayerNetwork...\")\n",
    "results_two = train(model_two, criterion, optimizer, train_loader, valid_loader)\n",
    "print(\"Done!\")"
   ]
  },
  {
   "cell_type": "code",
   "execution_count": 13,
   "metadata": {
    "colab": {
     "base_uri": "https://localhost:8080/",
     "height": 1000
    },
    "executionInfo": {
     "elapsed": 5983,
     "status": "ok",
     "timestamp": 1606762016252,
     "user": {
      "displayName": "Amith Lukkoor",
      "photoUrl": "https://lh3.googleusercontent.com/a-/AOh14GjcH8ZwqQ18Xi2HRThO0tbx4BBzfkm4zIxFsOqi_w=s64",
      "userId": "14016473322684926525"
     },
     "user_tz": 480
    },
    "id": "KMmurb4-d39G",
    "outputId": "7fa840fb-4475-4a3c-be06-2a80b69a1176"
   },
   "outputs": [
    {
     "data": {
      "image/png": "[encoded data removed]",
      "text/plain": [
       "<Figure size 432x288 with 1 Axes>"
      ]
     },
     "metadata": {
      "needs_background": "light"
     },
     "output_type": "display_data"
    }
   ],
   "source": [
    "one_train_loss, one_valid_loss, one_train_acc, one_valid_acc = results_one\n",
    "two_train_loss, two_valid_loss, two_train_acc, two_valid_acc = results_two\n",
    "\n",
    "# Generate a plot to comare one_train_loss, one_valid_loss, two_train_loss, two_valid_loss\n",
    "x = np.arange(1,31)\n",
    "plt.plot(x, one_train_loss, label='Model 1 Training')\n",
    "plt.plot(x, one_valid_loss, label='Model 1 Validation')\n",
    "plt.plot(x, two_train_loss, label='Model 2 Training')\n",
    "plt.plot(x, two_valid_loss, label='Model 2 Validation')\n",
    "plt.xlabel('Epoch')\n",
    "plt.ylabel('Loss')\n",
    "plt.legend()\n",
    "plt.show()"
   ]
  },
  {
   "cell_type": "code",
   "execution_count": 14,
   "metadata": {
    "colab": {
     "base_uri": "https://localhost:8080/",
     "height": 1000
    },
    "executionInfo": {
     "elapsed": 5983,
     "status": "ok",
     "timestamp": 1606762016252,
     "user": {
      "displayName": "Amith Lukkoor",
      "photoUrl": "https://lh3.googleusercontent.com/a-/AOh14GjcH8ZwqQ18Xi2HRThO0tbx4BBzfkm4zIxFsOqi_w=s64",
      "userId": "14016473322684926525"
     },
     "user_tz": 480
    },
    "id": "KMmurb4-d39G",
    "outputId": "7fa840fb-4475-4a3c-be06-2a80b69a1176"
   },
   "outputs": [
    {
     "data": {
      "image/png": "[encoded data removed]",
      "text/plain": [
       "<Figure size 432x288 with 1 Axes>"
      ]
     },
     "metadata": {
      "needs_background": "light"
     },
     "output_type": "display_data"
    }
   ],
   "source": [
    "# Generate a plot to comare one_train_acc, one_valid_acc, two_train_acc, two_valid_acc\n",
    "x = np.arange(1,31)\n",
    "plt.plot(x, one_train_acc, label='Model 1 Training')\n",
    "plt.plot(x, one_valid_acc, label='Model 1 Validation')\n",
    "plt.plot(x, two_train_acc, label='Model 2 Training')\n",
    "plt.plot(x, two_valid_acc, label='Model 2 Validation')\n",
    "plt.xlabel('Epoch')\n",
    "plt.ylabel('Accuracy')\n",
    "plt.legend()\n",
    "plt.show()"
   ]
  },
  {
   "cell_type": "code",
   "execution_count": 15,
   "metadata": {
    "colab": {
     "base_uri": "https://localhost:8080/",
     "height": 1000
    },
    "executionInfo": {
     "elapsed": 5983,
     "status": "ok",
     "timestamp": 1606762016252,
     "user": {
      "displayName": "Amith Lukkoor",
      "photoUrl": "https://lh3.googleusercontent.com/a-/AOh14GjcH8ZwqQ18Xi2HRThO0tbx4BBzfkm4zIxFsOqi_w=s64",
      "userId": "14016473322684926525"
     },
     "user_tz": 480
    },
    "id": "KMmurb4-d39G",
    "outputId": "7fa840fb-4475-4a3c-be06-2a80b69a1176"
   },
   "outputs": [
    {
     "name": "stdout",
     "output_type": "stream",
     "text": [
      "Model one test accuracy:  0.9666666388511658\n",
      "Model two test accuracy:  0.9666666388511658\n"
     ]
    }
   ],
   "source": [
    "# Calculate the test accuracy\n",
    "y_acc_one = evaluate_acc(model_one, test_loader)\n",
    "print('Model one test accuracy: ', y_acc_one.item())\n",
    "y_acc_two = evaluate_acc(model_two, test_loader)\n",
    "print('Model two test accuracy: ', y_acc_two.item())"
   ]
  }
 ],
 "metadata": {
  "colab": {
   "collapsed_sections": [],
   "name": "hw3.ipynb",
   "provenance": []
  },
  "kernelspec": {
   "display_name": "Python 3",
   "language": "python",
   "name": "python3"
  },
  "language_info": {
   "codemirror_mode": {
    "name": "ipython",
    "version": 3
   },
   "file_extension": ".py",
   "mimetype": "text/x-python",
   "name": "python",
   "nbconvert_exporter": "python",
   "pygments_lexer": "ipython3",
   "version": "3.7.4"
  }
 },
 "nbformat": 4,
 "nbformat_minor": 1
}
